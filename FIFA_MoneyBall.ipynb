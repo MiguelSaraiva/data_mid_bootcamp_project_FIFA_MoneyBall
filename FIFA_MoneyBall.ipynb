{
 "cells": [
  {
   "cell_type": "code",
   "execution_count": null,
   "metadata": {},
   "outputs": [],
   "source": []
  }
 ],
 "metadata": {
  "kernelspec": {
   "display_name": "Python 3",
   "language": "python",
   "name": "python3"
  },
  "language_info": {
   "name": "python",
   "version": "3.10.10"
  },
  "orig_nbformat": 4,
  "vscode": {
   "interpreter": {
    "hash": "0bd566559a8880e7272aad6319f1a0014c5dfadaf9b377e9b51e0ae3382edc81"
   }
  }
 },
 "nbformat": 4,
 "nbformat_minor": 2
}
